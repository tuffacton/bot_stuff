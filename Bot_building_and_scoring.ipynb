{
  "nbformat": 4,
  "nbformat_minor": 0,
  "metadata": {
    "colab": {
      "name": "Bot_building_and_scoring.ipynb",
      "version": "0.3.2",
      "provenance": [],
      "collapsed_sections": [
        "uEicC5S3M0RI"
      ],
      "toc_visible": true
    }
  },
  "cells": [
    {
      "metadata": {
        "id": "jv5oQRTFaxEQ",
        "colab_type": "text"
      },
      "cell_type": "markdown",
      "source": [
        "# Bot Exploration"
      ]
    },
    {
      "metadata": {
        "id": "KMADbDjeOyoh",
        "colab_type": "text"
      },
      "cell_type": "markdown",
      "source": [
        "## Methodologies/Syntax"
      ]
    },
    {
      "metadata": {
        "id": "uEicC5S3M0RI",
        "colab_type": "text"
      },
      "cell_type": "markdown",
      "source": [
        "### Bot Characterizing\n",
        "Here we will define our bot matrix in a way that is extensible and code-based so it can potentially be filled from external data-sources or easily exported to various other file formats."
      ]
    },
    {
      "metadata": {
        "id": "l_WHT6yRMuM4",
        "colab_type": "code",
        "colab": {}
      },
      "cell_type": "code",
      "source": [
        "import pandas as pd\n",
        "import matplotlib.pyplot as plt\n",
        "from mpl_toolkits.mplot3d import Axes3D"
      ],
      "execution_count": 0,
      "outputs": []
    },
    {
      "metadata": {
        "id": "Xm-wW9ZESj9T",
        "colab_type": "text"
      },
      "cell_type": "markdown",
      "source": [
        "First, we'll define our Bot class to help us organize."
      ]
    },
    {
      "metadata": {
        "id": "I8VwxGGCMz4k",
        "colab_type": "code",
        "colab": {}
      },
      "cell_type": "code",
      "source": [
        "class Bot:\n",
        "  \"\"\"A class for social media bot with the following properties:\n",
        "  \n",
        "  Attributes:\n",
        "    name: A name the group has created for the bot\n",
        "    1-5 Ratings:\n",
        "      scale: The scale of the bot or bot type\n",
        "      humanity: Admittedly hard to measure, but important nonetheless. Effectively, how distinguishable is the bot from a human account.\n",
        "      influence: Capability of the bot or bot type to influence.\n",
        "    notes: General notes on what the bot does to provide context\n",
        "    example: A link to a URL of a Twitter Profile that the team suspects meets the characteristics of the bot, or \n",
        "    \n",
        "      \"\"\"\n",
        "  def __init__(self, name, scale=0, humanity=0, influence=0, notes =\"\", example=\"\"):\n",
        "        \"\"\"Returns a bot-type object\"\"\"\n",
        "        self.name = name\n",
        "        self.scale = scale\n",
        "        self.humanity = humanity\n",
        "        self.influence = influence\n",
        "        self.notes = notes\n",
        "        self.example = example"
      ],
      "execution_count": 0,
      "outputs": []
    },
    {
      "metadata": {
        "id": "4RnEP58AXorW",
        "colab_type": "text"
      },
      "cell_type": "markdown",
      "source": [
        "From here we can create our bots from this class for our future tools!"
      ]
    },
    {
      "metadata": {
        "id": "GC-wNJigSqYI",
        "colab_type": "code",
        "colab": {}
      },
      "cell_type": "code",
      "source": [
        "# Bot list\n",
        "bots = []\n",
        "def add_bot(name, scale, humanity, influence, notes, example):\n",
        "  bots.append(Bot(name, scale, humanity, influence, notes, example))\n",
        "\n",
        "add_bot('Admitted Informational Bot', 1, 1, 1, \"\", \"\")"
      ],
      "execution_count": 0,
      "outputs": []
    },
    {
      "metadata": {
        "id": "6G5rv3fBIAoY",
        "colab_type": "code",
        "colab": {
          "base_uri": "https://localhost:8080/",
          "height": 34
        },
        "outputId": "b8dc37c5-b315-4dc2-b8d9-aa36634a366c"
      },
      "cell_type": "code",
      "source": [
        "print(bots[0].name)"
      ],
      "execution_count": 19,
      "outputs": [
        {
          "output_type": "stream",
          "text": [
            "Admitted Informational Bot\n"
          ],
          "name": "stdout"
        }
      ]
    },
    {
      "metadata": {
        "id": "2bDFcNDGbJiQ",
        "colab_type": "text"
      },
      "cell_type": "markdown",
      "source": [
        "We can then transform this into a dataframe, a trusted data structure ingestible by many data manipulation libraries across many code-bases."
      ]
    },
    {
      "metadata": {
        "id": "MpBLj9mwZEi0",
        "colab_type": "code",
        "colab": {}
      },
      "cell_type": "code",
      "source": [
        "def bot_frame(bots):\n",
        "  names = []\n",
        "  scales = []\n",
        "  humanities = []\n",
        "  influences = []\n",
        "  notes = []\n",
        "  examples = []\n",
        "  for i in bots:\n",
        "    names.append(i.name)\n",
        "    scales.append(i.scale)\n",
        "    humanities.append(i.humanity)\n",
        "    influences.append(i.influence)\n",
        "    notes.append(i.notes)\n",
        "    examples.append(i.example)\n",
        "  data = {'Scale': scales, 'Humanity': humanities, 'Influence': influences, 'Notes': notes, 'Examples': examples}\n",
        "  df = pd.DataFrame(data, columns=['Scale', 'Humanity', 'Influence', 'Notes', 'Examples'], index=names)\n",
        "  df.index.name = \"Bot Type\"\n",
        "  return df"
      ],
      "execution_count": 0,
      "outputs": []
    },
    {
      "metadata": {
        "id": "fINrNZa2HvuB",
        "colab_type": "code",
        "colab": {
          "base_uri": "https://localhost:8080/",
          "height": 111
        },
        "outputId": "a8159d6c-e8a9-41f9-b73d-41f79837cedb"
      },
      "cell_type": "code",
      "source": [
        "bot_frame(bots)"
      ],
      "execution_count": 47,
      "outputs": [
        {
          "output_type": "execute_result",
          "data": {
            "text/html": [
              "<div>\n",
              "<style scoped>\n",
              "    .dataframe tbody tr th:only-of-type {\n",
              "        vertical-align: middle;\n",
              "    }\n",
              "\n",
              "    .dataframe tbody tr th {\n",
              "        vertical-align: top;\n",
              "    }\n",
              "\n",
              "    .dataframe thead th {\n",
              "        text-align: right;\n",
              "    }\n",
              "</style>\n",
              "<table border=\"1\" class=\"dataframe\">\n",
              "  <thead>\n",
              "    <tr style=\"text-align: right;\">\n",
              "      <th></th>\n",
              "      <th>Scale</th>\n",
              "      <th>Humanity</th>\n",
              "      <th>Influence</th>\n",
              "      <th>Notes</th>\n",
              "      <th>Examples</th>\n",
              "    </tr>\n",
              "    <tr>\n",
              "      <th>Bot Type</th>\n",
              "      <th></th>\n",
              "      <th></th>\n",
              "      <th></th>\n",
              "      <th></th>\n",
              "      <th></th>\n",
              "    </tr>\n",
              "  </thead>\n",
              "  <tbody>\n",
              "    <tr>\n",
              "      <th>Admitted Informational Bot</th>\n",
              "      <td>1</td>\n",
              "      <td>1</td>\n",
              "      <td>1</td>\n",
              "      <td></td>\n",
              "      <td></td>\n",
              "    </tr>\n",
              "  </tbody>\n",
              "</table>\n",
              "</div>"
            ],
            "text/plain": [
              "                            Scale  Humanity  Influence Notes Examples\n",
              "Bot Type                                                             \n",
              "Admitted Informational Bot      1         1          1               "
            ]
          },
          "metadata": {
            "tags": []
          },
          "execution_count": 47
        }
      ]
    },
    {
      "metadata": {
        "id": "B3bezrIsLta0",
        "colab_type": "text"
      },
      "cell_type": "markdown",
      "source": [
        "From here, we have a good tabular data structure to organize our bots. As we proceed to demonstrate each bot, we will provide evidence for each characteristic and assign weighted values. We can then simply append them to our bot list using our bot class and visualize our bot space at the end."
      ]
    },
    {
      "metadata": {
        "id": "kelUiw0UNe3A",
        "colab_type": "text"
      },
      "cell_type": "markdown",
      "source": [
        "### Bot Demonstrations\n",
        "To follow along, be sure to run these commands and follow these instructions.\n",
        "\n",
        "First, we'll need to import some libraries that will allow us to build our bots and demo them directly in the notebook."
      ]
    },
    {
      "metadata": {
        "id": "KhxzevohN402",
        "colab_type": "code",
        "colab": {}
      },
      "cell_type": "code",
      "source": [
        "# Comment these out if you already have these dependencies or manage them \n",
        "# with another package manager like conda\n",
        "!pip install -q tweepy\n",
        "import tweepy, time"
      ],
      "execution_count": 0,
      "outputs": []
    },
    {
      "metadata": {
        "id": "0JgCTyFKlzOc",
        "colab_type": "text"
      },
      "cell_type": "markdown",
      "source": [
        "#### Twitter Help Code\n",
        "Thanks to a thread [here](https://github.com/jupyter/notebook/issues/2790) our actual tweets will be embedded directly into the notebook to demonstrate!"
      ]
    },
    {
      "metadata": {
        "id": "cdHn7TDROChf",
        "colab_type": "code",
        "colab": {
          "base_uri": "https://localhost:8080/",
          "height": 238
        },
        "outputId": "dbc257b4-8a92-4935-88fa-ab40c76dedfd"
      },
      "cell_type": "code",
      "source": [
        "# Define Tweet Class\n",
        "class Tweet(object):\n",
        "    def __init__(self, embed_str=None):\n",
        "        self.embed_str = embed_str\n",
        "\n",
        "    def _repr_html_(self):\n",
        "        return self.embed_str\n",
        "      \n",
        "# Assign an twitter embed to a string (with u placed in front)\n",
        "s = u\"\"\"<blockquote class=\"twitter-tweet\" data-lang=\"en\"><p lang=\"en\" dir=\"ltr\">Yes! Didn&#39;t take me more than 10 seconds to try the new music feature, Debussy with a roaring fireplace is 1000%👌 <a href=\"https://t.co/pZx0n87d5U\">https://t.co/pZx0n87d5U</a></p>&mdash; Nic Acton (@NicActon) <a href=\"https://twitter.com/NicActon/status/975884801029935109?ref_src=twsrc%5Etfw\">March 20, 2018</a></blockquote>\n",
        "<script async src=\"https://platform.twitter.com/widgets.js\" charset=\"utf-8\"></script>\"\"\"\n",
        "Tweet(s)"
      ],
      "execution_count": 3,
      "outputs": [
        {
          "output_type": "execute_result",
          "data": {
            "text/html": [
              "<blockquote class=\"twitter-tweet\" data-lang=\"en\"><p lang=\"en\" dir=\"ltr\">Yes! Didn&#39;t take me more than 10 seconds to try the new music feature, Debussy with a roaring fireplace is 1000%👌 <a href=\"https://t.co/pZx0n87d5U\">https://t.co/pZx0n87d5U</a></p>&mdash; Nic Acton (@NicActon) <a href=\"https://twitter.com/NicActon/status/975884801029935109?ref_src=twsrc%5Etfw\">March 20, 2018</a></blockquote>\n",
              "<script async src=\"https://platform.twitter.com/widgets.js\" charset=\"utf-8\"></script>"
            ],
            "text/plain": [
              "<__main__.Tweet at 0x7f097e58c990>"
            ]
          },
          "metadata": {
            "tags": []
          },
          "execution_count": 3
        }
      ]
    },
    {
      "metadata": {
        "id": "hUfgs2yzMhTl",
        "colab_type": "text"
      },
      "cell_type": "markdown",
      "source": [
        "## Bot-Types\n",
        "Lets start identifying the types of bots that are out there. First thing is first, lets empty our bot list."
      ]
    },
    {
      "metadata": {
        "id": "pIJcoRvzPb0j",
        "colab_type": "code",
        "colab": {}
      },
      "cell_type": "code",
      "source": [
        "bots = []"
      ],
      "execution_count": 0,
      "outputs": []
    },
    {
      "metadata": {
        "id": "yID0fZo4NUi1",
        "colab_type": "text"
      },
      "cell_type": "markdown",
      "source": [
        "### Informational Bots\n",
        "#### Objective\n",
        "Tweets out a snippet of information, maybe from an external repository or a set datastore.\n",
        "#### Bot Creation\n",
        "Bot creation starts at [Twitter](https://twitter.com/), where one can sign-up. Our group members created various bots in just a few steps. Here are some characteristics that define just a simple user of the Twitter platform in order to make an account in the first place:\n",
        "1. A unique username\n",
        "2. An e-mail to validate against\n",
        "\n",
        "That's it. Anyone can make an account with only those two things and start interacting with the platform through Twitter's interfaces.\n",
        "\n",
        "In order to use the Twitter API, which is the most quick and efficient way to interact with the Twitter platform as a bot, a mobile phone number must also be provided in order to provide verification. A few considerations for this:\n",
        "- Phone numbers are not incredibly hard to come by, platforms like [Google Voice](https://voice.google.com) and similar providers allow users to allocate many phone numbers to themselves.\n",
        "- You can make many Twitter accounts off of the same phone number.\n",
        "- You can skip the phone number and just perform all of your automation by emulating a Browser User Agent to interact with the Twitter web UI. This can easily be done with libraries like [Selenium](https://www.seleniumhq.org/).\n",
        "\n",
        "For the purposes of these bot demonstrations, we simply used the Twitter API and tied phone numbers to our Twitter accoutns. The bot created is demonstrated below:"
      ]
    },
    {
      "metadata": {
        "id": "0WEq9ORhOWOu",
        "colab_type": "code",
        "colab": {
          "base_uri": "https://localhost:8080/",
          "height": 237
        },
        "outputId": "af38e92c-ab92-48bc-9f9a-c45859164ee6"
      },
      "cell_type": "code",
      "source": [
        "s2 = u\"\"\"<blockquote class=\"twitter-tweet\" data-lang=\"en\"><p lang=\"en\" dir=\"ltr\">Hello world, this is <a href=\"https://twitter.com/NicActon?ref_src=twsrc%5Etfw\">@NicActon</a> here. This will likely be the only human-made tweet you&#39;ll see out of this account for quite some time. Sit back and see what this little guy can do.</p>&mdash; Nick the Bot (@nic_tweet_bot) <a href=\"https://twitter.com/nic_tweet_bot/status/985635986351841281?ref_src=twsrc%5Etfw\">April 15, 2018</a></blockquote>\n",
        "<script async src=\"https://platform.twitter.com/widgets.js\" charset=\"utf-8\"></script>\"\"\"\n",
        "Tweet(s2)"
      ],
      "execution_count": 4,
      "outputs": [
        {
          "output_type": "execute_result",
          "data": {
            "text/html": [
              "<blockquote class=\"twitter-tweet\" data-lang=\"en\"><p lang=\"en\" dir=\"ltr\">Hello world, this is <a href=\"https://twitter.com/NicActon?ref_src=twsrc%5Etfw\">@NicActon</a> here. This will likely be the only human-made tweet you&#39;ll see out of this account for quite some time. Sit back and see what this little guy can do.</p>&mdash; Nick the Bot (@nic_tweet_bot) <a href=\"https://twitter.com/nic_tweet_bot/status/985635986351841281?ref_src=twsrc%5Etfw\">April 15, 2018</a></blockquote>\n",
              "<script async src=\"https://platform.twitter.com/widgets.js\" charset=\"utf-8\"></script>"
            ],
            "text/plain": [
              "<__main__.Tweet at 0x7f097e58c710>"
            ]
          },
          "metadata": {
            "tags": []
          },
          "execution_count": 4
        }
      ]
    },
    {
      "metadata": {
        "id": "j6zckzDKYImN",
        "colab_type": "text"
      },
      "cell_type": "markdown",
      "source": [
        "Our Informational Bot will perform a simple function, it will tweet out some \"fun facts\" that have been previously pulled from https://www.livin3.com/50-cool-and-weird-fun-facts-that-you-should-know (which have been stored in a text file in a github repository).\n",
        "\n",
        "Credit goes to [Kristoffer Ekens](https://www.codingdojo.com/blog/author/kekenes/) over at Coding Dojo for his excellent [tutorial](https://www.codingdojo.com//blog/make-twitter-bot-10-minutes/) that formed the basis of this bot."
      ]
    },
    {
      "metadata": {
        "id": "tWSQNcQAUxlW",
        "colab_type": "code",
        "colab": {}
      },
      "cell_type": "code",
      "source": [
        "# These keys will be removed from the published code, but you can use your own:\n",
        "CONSUMER_KEY = \n",
        "CONSUMER_SECRET = \n",
        "ACCESS_TOKEN = \n",
        "ACCESS_SECRET = \n",
        "\n",
        "# Configure access information for reaching Twitter\n",
        "auth = tweepy.OAuthHandler(CONSUMER_KEY, CONSUMER_SECRET)\n",
        "auth.set_access_token(ACCESS_TOKEN, ACCESS_SECRET)"
      ],
      "execution_count": 0,
      "outputs": []
    },
    {
      "metadata": {
        "id": "BqheaVOQacEo",
        "colab_type": "text"
      },
      "cell_type": "markdown",
      "source": [
        "We can read the contents of our text file. The function of our Twitter bot is that every one minute it will Tweet one line from our fun facts list."
      ]
    },
    {
      "metadata": {
        "id": "fSBtF7NCaWmY",
        "colab_type": "code",
        "colab": {
          "base_uri": "https://localhost:8080/",
          "height": 54
        },
        "outputId": "6dc89aff-d871-45dd-9155-36fe241990ff"
      },
      "cell_type": "code",
      "source": [
        "import urllib2\n",
        "scrape = urllib2.urlopen('https://raw.githubusercontent.com/tuffacton/bot_stuff/master/fun_facts.txt')\n",
        "text_repo = []\n",
        "for line in scrape:\n",
        "  text_repo.append(str(line))\n",
        "print(text_repo)"
      ],
      "execution_count": 25,
      "outputs": [
        {
          "output_type": "stream",
          "text": [
            "['1. If you somehow found a way to extract all of the gold from the bubbling core of our lovely little planet, you would be able to cover all of the land in a layer of gold up to your knees.\\n', '2. McDonalds calls frequent buyers of their food \\xe2\\x80\\x9cheavy users.\\xe2\\x80\\x9d\\n', '3. The average person spends 6 months of their lifetime waiting on a red light to turn green.\\n', '4. The largest recorded snowflake was in Keogh, MT during year 1887, and was 15 inches wide.\\n', '5. You burn more calories sleeping than you do watching television.\\n', '6. There are more lifeforms living on your skin than there are people on the planet.\\n', '7. Southern sea otters have flaps of skin under their forelegs that act as pockets. When diving, they use these pouches to store rocks and food.\\n', '8. In 1386 a pig in France was executed by public hanging for the murder of a child.\\n', '9. One in every five adults believe that aliens are hiding in our planet disguised as humans.\\n', '10. If you believe that you\\xe2\\x80\\x99re truly one in a million, there are still approximately 7,184 more people out there just like you.']\n"
          ],
          "name": "stdout"
        }
      ]
    },
    {
      "metadata": {
        "id": "9AtOAQtRck81",
        "colab_type": "text"
      },
      "cell_type": "markdown",
      "source": [
        "Lets check if the Tweepy python package actually works:"
      ]
    },
    {
      "metadata": {
        "id": "nCrTwqgQcYLV",
        "colab_type": "code",
        "colab": {
          "base_uri": "https://localhost:8080/",
          "height": 54
        },
        "outputId": "6a5e8170-2fcd-4b84-95a6-89e5a2a07f3a"
      },
      "cell_type": "code",
      "source": [
        "api = tweepy.API(auth)\n",
        "api.update_status(\"This is a test tweepy tweet\")"
      ],
      "execution_count": 16,
      "outputs": [
        {
          "output_type": "execute_result",
          "data": {
            "text/plain": [
              "Status(contributors=None, truncated=False, text=u'This is a test tweepy tweet', is_quote_status=False, in_reply_to_status_id=None, id=985647524068208640, favorite_count=0, _api=<tweepy.api.API object at 0x7f097e58ca50>, author=User(follow_request_sent=False, has_extended_profile=True, profile_use_background_image=True, _json={u'follow_request_sent': False, u'has_extended_profile': True, u'profile_use_background_image': True, u'default_profile_image': False, u'id': 985632817295085568, u'profile_background_image_url_https': None, u'verified': False, u'translator_type': u'none', u'profile_text_color': u'333333', u'profile_image_url_https': u'https://pbs.twimg.com/profile_images/985634562725306369/VRVREsy6_normal.jpg', u'profile_sidebar_fill_color': u'DDEEF6', u'entities': {u'description': {u'urls': []}}, u'followers_count': 0, u'profile_sidebar_border_color': u'C0DEED', u'id_str': u'985632817295085568', u'profile_background_color': u'F5F8FA', u'listed_count': 0, u'is_translation_enabled': False, u'utc_offset': None, u'statuses_count': 2, u'description': u'I am a bot made by @NicActon to demonstrate an array of functionality for Twitter bots!', u'friends_count': 0, u'location': u'Arlington, VA', u'profile_link_color': u'1DA1F2', u'profile_image_url': u'http://pbs.twimg.com/profile_images/985634562725306369/VRVREsy6_normal.jpg', u'following': False, u'geo_enabled': False, u'profile_background_image_url': None, u'screen_name': u'nic_tweet_bot', u'lang': u'en', u'profile_background_tile': False, u'favourites_count': 0, u'name': u'Nick the Bot', u'notifications': False, u'url': None, u'created_at': u'Sun Apr 15 21:35:50 +0000 2018', u'contributors_enabled': False, u'time_zone': None, u'protected': False, u'default_profile': True, u'is_translator': False}, time_zone=None, id=985632817295085568, description=u'I am a bot made by @NicActon to demonstrate an array of functionality for Twitter bots!', _api=<tweepy.api.API object at 0x7f097e58ca50>, verified=False, profile_text_color=u'333333', profile_image_url_https=u'https://pbs.twimg.com/profile_images/985634562725306369/VRVREsy6_normal.jpg', profile_sidebar_fill_color=u'DDEEF6', is_translator=False, geo_enabled=False, entities={u'description': {u'urls': []}}, followers_count=0, protected=False, id_str=u'985632817295085568', default_profile_image=False, listed_count=0, lang=u'en', utc_offset=None, statuses_count=2, profile_background_color=u'F5F8FA', friends_count=0, profile_link_color=u'1DA1F2', profile_image_url=u'http://pbs.twimg.com/profile_images/985634562725306369/VRVREsy6_normal.jpg', notifications=False, default_profile=True, profile_background_image_url_https=None, profile_background_image_url=None, name=u'Nick the Bot', is_translation_enabled=False, profile_background_tile=False, favourites_count=0, screen_name=u'nic_tweet_bot', url=None, created_at=datetime.datetime(2018, 4, 15, 21, 35, 50), contributors_enabled=False, location=u'Arlington, VA', profile_sidebar_border_color=u'C0DEED', translator_type=u'none', following=False), _json={u'contributors': None, u'truncated': False, u'text': u'This is a test tweepy tweet', u'is_quote_status': False, u'in_reply_to_status_id': None, u'id': 985647524068208640, u'favorite_count': 0, u'source': u'<a href=\"http://nicacton.space\" rel=\"nofollow\">Informational_BOT</a>', u'retweeted': False, u'coordinates': None, u'entities': {u'symbols': [], u'user_mentions': [], u'hashtags': [], u'urls': []}, u'in_reply_to_screen_name': None, u'in_reply_to_user_id': None, u'retweet_count': 0, u'id_str': u'985647524068208640', u'favorited': False, u'user': {u'follow_request_sent': False, u'has_extended_profile': True, u'profile_use_background_image': True, u'default_profile_image': False, u'id': 985632817295085568, u'profile_background_image_url_https': None, u'verified': False, u'translator_type': u'none', u'profile_text_color': u'333333', u'profile_image_url_https': u'https://pbs.twimg.com/profile_images/985634562725306369/VRVREsy6_normal.jpg', u'profile_sidebar_fill_color': u'DDEEF6', u'entities': {u'description': {u'urls': []}}, u'followers_count': 0, u'profile_sidebar_border_color': u'C0DEED', u'id_str': u'985632817295085568', u'profile_background_color': u'F5F8FA', u'listed_count': 0, u'is_translation_enabled': False, u'utc_offset': None, u'statuses_count': 2, u'description': u'I am a bot made by @NicActon to demonstrate an array of functionality for Twitter bots!', u'friends_count': 0, u'location': u'Arlington, VA', u'profile_link_color': u'1DA1F2', u'profile_image_url': u'http://pbs.twimg.com/profile_images/985634562725306369/VRVREsy6_normal.jpg', u'following': False, u'geo_enabled': False, u'profile_background_image_url': None, u'screen_name': u'nic_tweet_bot', u'lang': u'en', u'profile_background_tile': False, u'favourites_count': 0, u'name': u'Nick the Bot', u'notifications': False, u'url': None, u'created_at': u'Sun Apr 15 21:35:50 +0000 2018', u'contributors_enabled': False, u'time_zone': None, u'protected': False, u'default_profile': True, u'is_translator': False}, u'geo': None, u'in_reply_to_user_id_str': None, u'lang': u'en', u'created_at': u'Sun Apr 15 22:34:16 +0000 2018', u'in_reply_to_status_id_str': None, u'place': None}, coordinates=None, entities={u'symbols': [], u'user_mentions': [], u'hashtags': [], u'urls': []}, in_reply_to_screen_name=None, id_str=u'985647524068208640', retweet_count=0, in_reply_to_user_id=None, favorited=False, source_url=u'http://nicacton.space', user=User(follow_request_sent=False, has_extended_profile=True, profile_use_background_image=True, _json={u'follow_request_sent': False, u'has_extended_profile': True, u'profile_use_background_image': True, u'default_profile_image': False, u'id': 985632817295085568, u'profile_background_image_url_https': None, u'verified': False, u'translator_type': u'none', u'profile_text_color': u'333333', u'profile_image_url_https': u'https://pbs.twimg.com/profile_images/985634562725306369/VRVREsy6_normal.jpg', u'profile_sidebar_fill_color': u'DDEEF6', u'entities': {u'description': {u'urls': []}}, u'followers_count': 0, u'profile_sidebar_border_color': u'C0DEED', u'id_str': u'985632817295085568', u'profile_background_color': u'F5F8FA', u'listed_count': 0, u'is_translation_enabled': False, u'utc_offset': None, u'statuses_count': 2, u'description': u'I am a bot made by @NicActon to demonstrate an array of functionality for Twitter bots!', u'friends_count': 0, u'location': u'Arlington, VA', u'profile_link_color': u'1DA1F2', u'profile_image_url': u'http://pbs.twimg.com/profile_images/985634562725306369/VRVREsy6_normal.jpg', u'following': False, u'geo_enabled': False, u'profile_background_image_url': None, u'screen_name': u'nic_tweet_bot', u'lang': u'en', u'profile_background_tile': False, u'favourites_count': 0, u'name': u'Nick the Bot', u'notifications': False, u'url': None, u'created_at': u'Sun Apr 15 21:35:50 +0000 2018', u'contributors_enabled': False, u'time_zone': None, u'protected': False, u'default_profile': True, u'is_translator': False}, time_zone=None, id=985632817295085568, description=u'I am a bot made by @NicActon to demonstrate an array of functionality for Twitter bots!', _api=<tweepy.api.API object at 0x7f097e58ca50>, verified=False, profile_text_color=u'333333', profile_image_url_https=u'https://pbs.twimg.com/profile_images/985634562725306369/VRVREsy6_normal.jpg', profile_sidebar_fill_color=u'DDEEF6', is_translator=False, geo_enabled=False, entities={u'description': {u'urls': []}}, followers_count=0, protected=False, id_str=u'985632817295085568', default_profile_image=False, listed_count=0, lang=u'en', utc_offset=None, statuses_count=2, profile_background_color=u'F5F8FA', friends_count=0, profile_link_color=u'1DA1F2', profile_image_url=u'http://pbs.twimg.com/profile_images/985634562725306369/VRVREsy6_normal.jpg', notifications=False, default_profile=True, profile_background_image_url_https=None, profile_background_image_url=None, name=u'Nick the Bot', is_translation_enabled=False, profile_background_tile=False, favourites_count=0, screen_name=u'nic_tweet_bot', url=None, created_at=datetime.datetime(2018, 4, 15, 21, 35, 50), contributors_enabled=False, location=u'Arlington, VA', profile_sidebar_border_color=u'C0DEED', translator_type=u'none', following=False), geo=None, in_reply_to_user_id_str=None, lang=u'en', created_at=datetime.datetime(2018, 4, 15, 22, 34, 16), in_reply_to_status_id_str=None, place=None, source=u'Informational_BOT', retweeted=False)"
            ]
          },
          "metadata": {
            "tags": []
          },
          "execution_count": 16
        }
      ]
    },
    {
      "metadata": {
        "id": "VnagXwslcjQS",
        "colab_type": "code",
        "colab": {
          "base_uri": "https://localhost:8080/",
          "height": 193
        },
        "outputId": "24dc28a0-8975-4f24-efc9-66a955e6daf1"
      },
      "cell_type": "code",
      "source": [
        "s3 = u\"\"\"<blockquote class=\"twitter-tweet\" data-lang=\"en\"><p lang=\"en\" dir=\"ltr\">This is a test tweepy tweet</p>&mdash; Nick the Bot (@nic_tweet_bot) <a href=\"https://twitter.com/nic_tweet_bot/status/985647524068208640?ref_src=twsrc%5Etfw\">April 15, 2018</a></blockquote>\n",
        "<script async src=\"https://platform.twitter.com/widgets.js\" charset=\"utf-8\"></script>\"\"\"\n",
        "Tweet(s3)"
      ],
      "execution_count": 17,
      "outputs": [
        {
          "output_type": "execute_result",
          "data": {
            "text/html": [
              "<blockquote class=\"twitter-tweet\" data-lang=\"en\"><p lang=\"en\" dir=\"ltr\">This is a test tweepy tweet</p>&mdash; Nick the Bot (@nic_tweet_bot) <a href=\"https://twitter.com/nic_tweet_bot/status/985647524068208640?ref_src=twsrc%5Etfw\">April 15, 2018</a></blockquote>\n",
              "<script async src=\"https://platform.twitter.com/widgets.js\" charset=\"utf-8\"></script>"
            ],
            "text/plain": [
              "<__main__.Tweet at 0x7f097e02e790>"
            ]
          },
          "metadata": {
            "tags": []
          },
          "execution_count": 17
        }
      ]
    },
    {
      "metadata": {
        "id": "jafXlgU2cxyM",
        "colab_type": "code",
        "colab": {}
      },
      "cell_type": "code",
      "source": [
        "# For each line of our fun facts, tweet out that line with some text saying it's a fun fact\n",
        "for line in text_repo:\n",
        "  api.update_status(\"This is a fun fact: \" + line)\n",
        "  time.sleep(60) # Attempt a tweet every one minute"
      ],
      "execution_count": 0,
      "outputs": []
    },
    {
      "metadata": {
        "id": "P2hw81zAg7w-",
        "colab_type": "text"
      },
      "cell_type": "markdown",
      "source": [
        "From here, we can see that our information bot worked just by checking our Twitter feed! We can even check to see that each one was tweeted one minute from the previous tweet.\n",
        "\n",
        "![10 fact tweets](https://raw.githubusercontent.com/tuffacton/bot_stuff/master/fun_facts.png)"
      ]
    },
    {
      "metadata": {
        "id": "34nimEypia2w",
        "colab_type": "text"
      },
      "cell_type": "markdown",
      "source": [
        "#### In the Wild\n",
        "While we've demonstrated construction of a simple information bot here, they are likely the most prolific known bot entities on the Twitter platform. \n",
        "\n",
        "##### Netflix Bot\n",
        "A good example of a fairly neutral and indifferent bot is the Netflix Bot, a bot that Tweets out new releases on Netflix:"
      ]
    },
    {
      "metadata": {
        "id": "Ov-8E2mXkEFu",
        "colab_type": "code",
        "colab": {
          "base_uri": "https://localhost:8080/",
          "height": 215
        },
        "outputId": "9953f30d-8d1f-4668-935d-fad4f80f0207"
      },
      "cell_type": "code",
      "source": [
        "Tweet(u\"\"\"<blockquote class=\"twitter-tweet\" data-lang=\"en\"><p lang=\"en\" dir=\"ltr\">Lost in Space/Season 1 (2018) TV-PG [Season] is now available on Netflix Instant - <a href=\"https://t.co/y3PgmZXD7V\">https://t.co/y3PgmZXD7V</a></p>&mdash; Netflix Bot (@netflix_bot) <a href=\"https://twitter.com/netflix_bot/status/984770817954402304?ref_src=twsrc%5Etfw\">April 13, 2018</a></blockquote>\n",
        "<script async src=\"https://platform.twitter.com/widgets.js\" charset=\"utf-8\"></script>\"\"\")"
      ],
      "execution_count": 27,
      "outputs": [
        {
          "output_type": "execute_result",
          "data": {
            "text/html": [
              "<blockquote class=\"twitter-tweet\" data-lang=\"en\"><p lang=\"en\" dir=\"ltr\">Lost in Space/Season 1 (2018) TV-PG [Season] is now available on Netflix Instant - <a href=\"https://t.co/y3PgmZXD7V\">https://t.co/y3PgmZXD7V</a></p>&mdash; Netflix Bot (@netflix_bot) <a href=\"https://twitter.com/netflix_bot/status/984770817954402304?ref_src=twsrc%5Etfw\">April 13, 2018</a></blockquote>\n",
              "<script async src=\"https://platform.twitter.com/widgets.js\" charset=\"utf-8\"></script>"
            ],
            "text/plain": [
              "<__main__.Tweet at 0x7f097e02e210>"
            ]
          },
          "metadata": {
            "tags": []
          },
          "execution_count": 27
        }
      ]
    },
    {
      "metadata": {
        "id": "XF9VoqQlkRJg",
        "colab_type": "text"
      },
      "cell_type": "markdown",
      "source": [
        "##### NYPD Edits\n",
        "Some bots have more idealistic motivations. The [NYPD Edits Twitter bot](https://twitter.com/NYPDedits) stemmed from a [Politico article](https://www.politico.com/states/new-york/city-hall/story/2015/03/edits-to-wikipedia-pages-on-bell-garner-diallo-traced-to-1-police-plaza-087652) detailing how computer users at NYPD's headquarters may have editted articles about alleged police brutality. That being said, the bot has a more objective function than the article, stating that it simply tweets when anonymous Wikipedia edits originate from a list of particular IP ranges that happen to be correlated to NYPD headquarters. Full code for the project can be found on [Github](https://github.com/edsu/anon) as well."
      ]
    },
    {
      "metadata": {
        "id": "j5b7pWTimxQm",
        "colab_type": "code",
        "colab": {
          "base_uri": "https://localhost:8080/",
          "height": 215
        },
        "outputId": "b55bf609-e249-4aff-9eac-955b8afedb4d"
      },
      "cell_type": "code",
      "source": [
        "Tweet(u\"\"\"<blockquote class=\"twitter-tweet\" data-lang=\"en\"><p lang=\"en\" dir=\"ltr\">Douglaston, Queens Wikipedia article edited by the NYPD <a href=\"http://t.co/5NlZnJJRR2\">http://t.co/5NlZnJJRR2</a></p>&mdash; NYPD edits (@NYPDedits) <a href=\"https://twitter.com/NYPDedits/status/591320946880942080?ref_src=twsrc%5Etfw\">April 23, 2015</a></blockquote>\n",
        "<script async src=\"https://platform.twitter.com/widgets.js\" charset=\"utf-8\"></script>\"\"\")"
      ],
      "execution_count": 28,
      "outputs": [
        {
          "output_type": "execute_result",
          "data": {
            "text/html": [
              "<blockquote class=\"twitter-tweet\" data-lang=\"en\"><p lang=\"en\" dir=\"ltr\">Douglaston, Queens Wikipedia article edited by the NYPD <a href=\"http://t.co/5NlZnJJRR2\">http://t.co/5NlZnJJRR2</a></p>&mdash; NYPD edits (@NYPDedits) <a href=\"https://twitter.com/NYPDedits/status/591320946880942080?ref_src=twsrc%5Etfw\">April 23, 2015</a></blockquote>\n",
              "<script async src=\"https://platform.twitter.com/widgets.js\" charset=\"utf-8\"></script>"
            ],
            "text/plain": [
              "<__main__.Tweet at 0x7f097e522290>"
            ]
          },
          "metadata": {
            "tags": []
          },
          "execution_count": 28
        }
      ]
    },
    {
      "metadata": {
        "id": "_oyplWNRntSI",
        "colab_type": "text"
      },
      "cell_type": "markdown",
      "source": [
        "#### Ethical Considerations of Informational Bots\n",
        "As we've just demonstrated, Informational Bots are just a way of consolidation of information that is stored somewhere else. We've seen that it can be relatively helpful from a completely benign stand-point, as evidenced with the Netflix Bot. \n",
        "\n",
        "However, where the ethical aspect comes in is when information that is normally not obtained easily becomes centralized, as demonstrated by the NYPD Edits bot. While the NYPD Edits, is constructed from public data generated from Wikipedia, the average layman does not have the technical aptitude to connect the dots and therefore the bot allows the public to see what had to be done manually.\n",
        "\n",
        "What actions have resulted from the use of the NYPD Edits bot? Well according to its latest pinned tweet, it was over a year before it was able to find an instance that met it's criteria:"
      ]
    },
    {
      "metadata": {
        "id": "_f8GWNcmpl0t",
        "colab_type": "code",
        "colab": {
          "base_uri": "https://localhost:8080/",
          "height": 237
        },
        "outputId": "20eba1d4-aa93-4688-93a6-99b530428ab9"
      },
      "cell_type": "code",
      "source": [
        "Tweet(u\"\"\"<blockquote class=\"twitter-tweet\" data-lang=\"en\"><p lang=\"en\" dir=\"ltr\">[Ed.: Since a few have asked, yes, <a href=\"https://twitter.com/NYPDedits?ref_src=twsrc%5Etfw\">@NYPDedits</a> is still running. There have been no new anonymous edits to Wikipedia from NYPD IP addresses.]</p>&mdash; NYPD edits (@NYPDedits) <a href=\"https://twitter.com/NYPDedits/status/739825986934603776?ref_src=twsrc%5Etfw\">June 6, 2016</a></blockquote>\n",
        "<script async src=\"https://platform.twitter.com/widgets.js\" charset=\"utf-8\"></script>\"\"\")"
      ],
      "execution_count": 29,
      "outputs": [
        {
          "output_type": "execute_result",
          "data": {
            "text/html": [
              "<blockquote class=\"twitter-tweet\" data-lang=\"en\"><p lang=\"en\" dir=\"ltr\">[Ed.: Since a few have asked, yes, <a href=\"https://twitter.com/NYPDedits?ref_src=twsrc%5Etfw\">@NYPDedits</a> is still running. There have been no new anonymous edits to Wikipedia from NYPD IP addresses.]</p>&mdash; NYPD edits (@NYPDedits) <a href=\"https://twitter.com/NYPDedits/status/739825986934603776?ref_src=twsrc%5Etfw\">June 6, 2016</a></blockquote>\n",
              "<script async src=\"https://platform.twitter.com/widgets.js\" charset=\"utf-8\"></script>"
            ],
            "text/plain": [
              "<__main__.Tweet at 0x7f097e544bd0>"
            ]
          },
          "metadata": {
            "tags": []
          },
          "execution_count": 29
        }
      ]
    },
    {
      "metadata": {
        "id": "Ui_dVwtkppTo",
        "colab_type": "text"
      },
      "cell_type": "markdown",
      "source": [
        "Of course, this does not necessarily mean that individuals in the NYPD are done modifying Wikipedia articles. They could be using VPNs or simply modifying from various other locations with new IPs. But perhaps the bot did act as a catalyst for this change?\n",
        "\n",
        "Another interesting idea to consider is one that is more pervasive to conversations around influence campaigns on the Twitter platform. As I've demonstrated with the bot I've created, I tweeted 10 facts from what we will assume is a trusted source for the purpose of this exercise. For all intents and purposes, I have tweeted 10/10 true facts.\n",
        "\n",
        "Lets tweet something that is not a \"true fact\":"
      ]
    },
    {
      "metadata": {
        "id": "4QzoPLu5qyc_",
        "colab_type": "code",
        "colab": {
          "base_uri": "https://localhost:8080/",
          "height": 54
        },
        "outputId": "5fa5d1d6-0916-440e-a9c3-d7d4e8d06095"
      },
      "cell_type": "code",
      "source": [
        "api.update_status(\"This is a fun fact: 11. The earth actually has more mass than the Sun!\")"
      ],
      "execution_count": 30,
      "outputs": [
        {
          "output_type": "execute_result",
          "data": {
            "text/plain": [
              "Status(contributors=None, truncated=False, text=u'This is a fun fact: 11. The earth actually has more mass than the Sun!', is_quote_status=False, in_reply_to_status_id=None, id=985663645383245826, favorite_count=0, _api=<tweepy.api.API object at 0x7f097e58ca50>, author=User(follow_request_sent=False, has_extended_profile=True, profile_use_background_image=True, _json={u'follow_request_sent': False, u'has_extended_profile': True, u'profile_use_background_image': True, u'default_profile_image': False, u'id': 985632817295085568, u'profile_background_image_url_https': None, u'verified': False, u'translator_type': u'none', u'profile_text_color': u'333333', u'profile_image_url_https': u'https://pbs.twimg.com/profile_images/985634562725306369/VRVREsy6_normal.jpg', u'profile_sidebar_fill_color': u'DDEEF6', u'entities': {u'description': {u'urls': []}}, u'followers_count': 1, u'profile_sidebar_border_color': u'C0DEED', u'id_str': u'985632817295085568', u'profile_background_color': u'F5F8FA', u'listed_count': 0, u'is_translation_enabled': False, u'utc_offset': None, u'statuses_count': 13, u'description': u'I am a bot made by @NicActon to demonstrate an array of functionality for Twitter bots!', u'friends_count': 0, u'location': u'Arlington, VA', u'profile_link_color': u'1DA1F2', u'profile_image_url': u'http://pbs.twimg.com/profile_images/985634562725306369/VRVREsy6_normal.jpg', u'following': False, u'geo_enabled': False, u'profile_background_image_url': None, u'screen_name': u'nic_tweet_bot', u'lang': u'en', u'profile_background_tile': False, u'favourites_count': 0, u'name': u'Nick the Bot', u'notifications': False, u'url': None, u'created_at': u'Sun Apr 15 21:35:50 +0000 2018', u'contributors_enabled': False, u'time_zone': None, u'protected': False, u'default_profile': True, u'is_translator': False}, time_zone=None, id=985632817295085568, description=u'I am a bot made by @NicActon to demonstrate an array of functionality for Twitter bots!', _api=<tweepy.api.API object at 0x7f097e58ca50>, verified=False, profile_text_color=u'333333', profile_image_url_https=u'https://pbs.twimg.com/profile_images/985634562725306369/VRVREsy6_normal.jpg', profile_sidebar_fill_color=u'DDEEF6', is_translator=False, geo_enabled=False, entities={u'description': {u'urls': []}}, followers_count=1, protected=False, id_str=u'985632817295085568', default_profile_image=False, listed_count=0, lang=u'en', utc_offset=None, statuses_count=13, profile_background_color=u'F5F8FA', friends_count=0, profile_link_color=u'1DA1F2', profile_image_url=u'http://pbs.twimg.com/profile_images/985634562725306369/VRVREsy6_normal.jpg', notifications=False, default_profile=True, profile_background_image_url_https=None, profile_background_image_url=None, name=u'Nick the Bot', is_translation_enabled=False, profile_background_tile=False, favourites_count=0, screen_name=u'nic_tweet_bot', url=None, created_at=datetime.datetime(2018, 4, 15, 21, 35, 50), contributors_enabled=False, location=u'Arlington, VA', profile_sidebar_border_color=u'C0DEED', translator_type=u'none', following=False), _json={u'contributors': None, u'truncated': False, u'text': u'This is a fun fact: 11. The earth actually has more mass than the Sun!', u'is_quote_status': False, u'in_reply_to_status_id': None, u'id': 985663645383245826, u'favorite_count': 0, u'source': u'<a href=\"http://nicacton.space\" rel=\"nofollow\">Informational_BOT</a>', u'retweeted': False, u'coordinates': None, u'entities': {u'symbols': [], u'user_mentions': [], u'hashtags': [], u'urls': []}, u'in_reply_to_screen_name': None, u'in_reply_to_user_id': None, u'retweet_count': 0, u'id_str': u'985663645383245826', u'favorited': False, u'user': {u'follow_request_sent': False, u'has_extended_profile': True, u'profile_use_background_image': True, u'default_profile_image': False, u'id': 985632817295085568, u'profile_background_image_url_https': None, u'verified': False, u'translator_type': u'none', u'profile_text_color': u'333333', u'profile_image_url_https': u'https://pbs.twimg.com/profile_images/985634562725306369/VRVREsy6_normal.jpg', u'profile_sidebar_fill_color': u'DDEEF6', u'entities': {u'description': {u'urls': []}}, u'followers_count': 1, u'profile_sidebar_border_color': u'C0DEED', u'id_str': u'985632817295085568', u'profile_background_color': u'F5F8FA', u'listed_count': 0, u'is_translation_enabled': False, u'utc_offset': None, u'statuses_count': 13, u'description': u'I am a bot made by @NicActon to demonstrate an array of functionality for Twitter bots!', u'friends_count': 0, u'location': u'Arlington, VA', u'profile_link_color': u'1DA1F2', u'profile_image_url': u'http://pbs.twimg.com/profile_images/985634562725306369/VRVREsy6_normal.jpg', u'following': False, u'geo_enabled': False, u'profile_background_image_url': None, u'screen_name': u'nic_tweet_bot', u'lang': u'en', u'profile_background_tile': False, u'favourites_count': 0, u'name': u'Nick the Bot', u'notifications': False, u'url': None, u'created_at': u'Sun Apr 15 21:35:50 +0000 2018', u'contributors_enabled': False, u'time_zone': None, u'protected': False, u'default_profile': True, u'is_translator': False}, u'geo': None, u'in_reply_to_user_id_str': None, u'lang': u'en', u'created_at': u'Sun Apr 15 23:38:20 +0000 2018', u'in_reply_to_status_id_str': None, u'place': None}, coordinates=None, entities={u'symbols': [], u'user_mentions': [], u'hashtags': [], u'urls': []}, in_reply_to_screen_name=None, id_str=u'985663645383245826', retweet_count=0, in_reply_to_user_id=None, favorited=False, source_url=u'http://nicacton.space', user=User(follow_request_sent=False, has_extended_profile=True, profile_use_background_image=True, _json={u'follow_request_sent': False, u'has_extended_profile': True, u'profile_use_background_image': True, u'default_profile_image': False, u'id': 985632817295085568, u'profile_background_image_url_https': None, u'verified': False, u'translator_type': u'none', u'profile_text_color': u'333333', u'profile_image_url_https': u'https://pbs.twimg.com/profile_images/985634562725306369/VRVREsy6_normal.jpg', u'profile_sidebar_fill_color': u'DDEEF6', u'entities': {u'description': {u'urls': []}}, u'followers_count': 1, u'profile_sidebar_border_color': u'C0DEED', u'id_str': u'985632817295085568', u'profile_background_color': u'F5F8FA', u'listed_count': 0, u'is_translation_enabled': False, u'utc_offset': None, u'statuses_count': 13, u'description': u'I am a bot made by @NicActon to demonstrate an array of functionality for Twitter bots!', u'friends_count': 0, u'location': u'Arlington, VA', u'profile_link_color': u'1DA1F2', u'profile_image_url': u'http://pbs.twimg.com/profile_images/985634562725306369/VRVREsy6_normal.jpg', u'following': False, u'geo_enabled': False, u'profile_background_image_url': None, u'screen_name': u'nic_tweet_bot', u'lang': u'en', u'profile_background_tile': False, u'favourites_count': 0, u'name': u'Nick the Bot', u'notifications': False, u'url': None, u'created_at': u'Sun Apr 15 21:35:50 +0000 2018', u'contributors_enabled': False, u'time_zone': None, u'protected': False, u'default_profile': True, u'is_translator': False}, time_zone=None, id=985632817295085568, description=u'I am a bot made by @NicActon to demonstrate an array of functionality for Twitter bots!', _api=<tweepy.api.API object at 0x7f097e58ca50>, verified=False, profile_text_color=u'333333', profile_image_url_https=u'https://pbs.twimg.com/profile_images/985634562725306369/VRVREsy6_normal.jpg', profile_sidebar_fill_color=u'DDEEF6', is_translator=False, geo_enabled=False, entities={u'description': {u'urls': []}}, followers_count=1, protected=False, id_str=u'985632817295085568', default_profile_image=False, listed_count=0, lang=u'en', utc_offset=None, statuses_count=13, profile_background_color=u'F5F8FA', friends_count=0, profile_link_color=u'1DA1F2', profile_image_url=u'http://pbs.twimg.com/profile_images/985634562725306369/VRVREsy6_normal.jpg', notifications=False, default_profile=True, profile_background_image_url_https=None, profile_background_image_url=None, name=u'Nick the Bot', is_translation_enabled=False, profile_background_tile=False, favourites_count=0, screen_name=u'nic_tweet_bot', url=None, created_at=datetime.datetime(2018, 4, 15, 21, 35, 50), contributors_enabled=False, location=u'Arlington, VA', profile_sidebar_border_color=u'C0DEED', translator_type=u'none', following=False), geo=None, in_reply_to_user_id_str=None, lang=u'en', created_at=datetime.datetime(2018, 4, 15, 23, 38, 20), in_reply_to_status_id_str=None, place=None, source=u'Informational_BOT', retweeted=False)"
            ]
          },
          "metadata": {
            "tags": []
          },
          "execution_count": 30
        }
      ]
    },
    {
      "metadata": {
        "id": "34-M6zF4rIs2",
        "colab_type": "code",
        "colab": {
          "base_uri": "https://localhost:8080/",
          "height": 215
        },
        "outputId": "cef7d9f8-f4be-428e-e59d-dee790a72747"
      },
      "cell_type": "code",
      "source": [
        "Tweet(u\"\"\"<blockquote class=\"twitter-tweet\" data-lang=\"en\"><p lang=\"en\" dir=\"ltr\">This is a fun fact: 11. The earth actually has more mass than the Sun!</p>&mdash; Nick the Bot (@nic_tweet_bot) <a href=\"https://twitter.com/nic_tweet_bot/status/985663645383245826?ref_src=twsrc%5Etfw\">April 15, 2018</a></blockquote>\n",
        "<script async src=\"https://platform.twitter.com/widgets.js\" charset=\"utf-8\"></script>\"\"\")"
      ],
      "execution_count": 31,
      "outputs": [
        {
          "output_type": "execute_result",
          "data": {
            "text/html": [
              "<blockquote class=\"twitter-tweet\" data-lang=\"en\"><p lang=\"en\" dir=\"ltr\">This is a fun fact: 11. The earth actually has more mass than the Sun!</p>&mdash; Nick the Bot (@nic_tweet_bot) <a href=\"https://twitter.com/nic_tweet_bot/status/985663645383245826?ref_src=twsrc%5Etfw\">April 15, 2018</a></blockquote>\n",
              "<script async src=\"https://platform.twitter.com/widgets.js\" charset=\"utf-8\"></script>"
            ],
            "text/plain": [
              "<__main__.Tweet at 0x7f097e544d10>"
            ]
          },
          "metadata": {
            "tags": []
          },
          "execution_count": 31
        }
      ]
    },
    {
      "metadata": {
        "id": "kUyCEXvWrNZ0",
        "colab_type": "text"
      },
      "cell_type": "markdown",
      "source": [
        "At this point, my bot has demonstrated its worth as a trusted Informational Bot by tweeting out 10 verificably true facts. Perhaps at this point I have built a following of individuals who have placed trust in my fact tweets and spread them around to their friends not only on Twitter but out in physical social gatherings. Have I effectively changed a conversation or two with this tweet?"
      ]
    }
  ]
}